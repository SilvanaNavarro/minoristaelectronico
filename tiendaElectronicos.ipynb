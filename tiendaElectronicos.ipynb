{
 "cells": [
  {
   "cell_type": "code",
   "execution_count": 1,
   "id": "d499b1ac",
   "metadata": {},
   "outputs": [
    {
     "ename": "ModuleNotFoundError",
     "evalue": "No module named 'myconnection'",
     "output_type": "error",
     "traceback": [
      "\u001b[1;31m---------------------------------------------------------------------------\u001b[0m",
      "\u001b[1;31mModuleNotFoundError\u001b[0m                       Traceback (most recent call last)",
      "Cell \u001b[1;32mIn[1], line 4\u001b[0m\n\u001b[0;32m      2\u001b[0m \u001b[38;5;28;01mimport\u001b[39;00m \u001b[38;5;21;01mnumpy\u001b[39;00m \u001b[38;5;28;01mas\u001b[39;00m \u001b[38;5;21;01mnp\u001b[39;00m\n\u001b[0;32m      3\u001b[0m \u001b[38;5;28;01mfrom\u001b[39;00m \u001b[38;5;21;01mdatetime\u001b[39;00m \u001b[38;5;28;01mimport\u001b[39;00m datetime\n\u001b[1;32m----> 4\u001b[0m \u001b[38;5;28;01mfrom\u001b[39;00m \u001b[38;5;21;01mmyconnection\u001b[39;00m \u001b[38;5;28;01mimport\u001b[39;00m connect_to_mysql\n",
      "\u001b[1;31mModuleNotFoundError\u001b[0m: No module named 'myconnection'"
     ]
    }
   ],
   "source": [
    "import pandas as pd\n",
    "import numpy as np\n",
    "from datetime import datetime\n",
    "from mysql.connection"
   ]
  },
  {
   "cell_type": "code",
   "execution_count": 28,
   "id": "150e792e",
   "metadata": {},
   "outputs": [],
   "source": [
    "def extraer_datos(ruta_de_archivo): \n",
    "    archivo=pd.read_csv(ruta_de_archivo)\n",
    "    data_frame=pd.DataFrame(archivo)\n",
    "    return(data_frame)"
   ]
  },
  {
   "cell_type": "code",
   "execution_count": 20,
   "id": "fdce10f6",
   "metadata": {},
   "outputs": [
    {
     "data": {
      "text/plain": [
       "Index(['ID de venta', 'Fecha de venta', 'Hora de Venta', 'ID de producto',\n",
       "       'Nombre del producto', 'Precio de venta', 'Género del cliente',\n",
       "       'Cantidad vendida', 'ID de cliente', 'Nombre del cliente',\n",
       "       'Ubicación de la tienda', 'Nombre de la tienda', 'ID de la tienda',\n",
       "       'Descuento'],\n",
       "      dtype='object')"
      ]
     },
     "execution_count": 20,
     "metadata": {},
     "output_type": "execute_result"
    }
   ],
   "source": [
    "df.columns"
   ]
  },
  {
   "cell_type": "code",
   "execution_count": 64,
   "id": "76ad4606",
   "metadata": {},
   "outputs": [],
   "source": [
    "def transformacion(data_frame):\n",
    "    fecha=[]\n",
    "    for i in range(len(data_frame['Fecha de venta'])):\n",
    "        date_str=data_frame['Fecha de venta'][i]+' '+data_frame['Hora de Venta'][i]\n",
    "        date_format= '%m/%d/%Y %I:%M %p'\n",
    "        date_obj = datetime.strptime(date_str, date_format)\n",
    "        fecha.append(date_obj)\n",
    "    transformado=pd.DataFrame({'id':data_frame['ID de venta'],'fecha':fecha,'id_producto':data_frame['ID de producto'],'id_cliente':data_frame['ID de cliente'],'cantidad':data_frame['Cantidad vendida'],'descuento':data_frame['Descuento'],'id_tienda':data_frame['ID de la tienda']})\n",
    "    return(transformado)"
   ]
  },
  {
   "cell_type": "code",
   "execution_count": 67,
   "id": "8e2d40c9",
   "metadata": {},
   "outputs": [
    {
     "data": {
      "text/html": [
       "<div>\n",
       "<style scoped>\n",
       "    .dataframe tbody tr th:only-of-type {\n",
       "        vertical-align: middle;\n",
       "    }\n",
       "\n",
       "    .dataframe tbody tr th {\n",
       "        vertical-align: top;\n",
       "    }\n",
       "\n",
       "    .dataframe thead th {\n",
       "        text-align: right;\n",
       "    }\n",
       "</style>\n",
       "<table border=\"1\" class=\"dataframe\">\n",
       "  <thead>\n",
       "    <tr style=\"text-align: right;\">\n",
       "      <th></th>\n",
       "      <th>id</th>\n",
       "      <th>fecha</th>\n",
       "      <th>id_producto</th>\n",
       "      <th>id_cliente</th>\n",
       "      <th>cantidad</th>\n",
       "      <th>descuento</th>\n",
       "      <th>id_tienda</th>\n",
       "    </tr>\n",
       "  </thead>\n",
       "  <tbody>\n",
       "    <tr>\n",
       "      <th>0</th>\n",
       "      <td>de249853-d129-41ce-8fc5-e4729a7e34b9</td>\n",
       "      <td>2024-02-12 19:12:00</td>\n",
       "      <td>30be362d-2a8a-41bf-ac5b-89d001ef1de9</td>\n",
       "      <td>b5f9c894-ac04-4785-8112-91ee0e598113</td>\n",
       "      <td>30</td>\n",
       "      <td>3</td>\n",
       "      <td>377a6598-039a-485c-836d-daf1fbf32238</td>\n",
       "    </tr>\n",
       "    <tr>\n",
       "      <th>1</th>\n",
       "      <td>03a62d85-904c-4ca1-90c2-cbe6140a6a5c</td>\n",
       "      <td>2023-06-28 16:00:00</td>\n",
       "      <td>459411b1-40de-4433-9981-af189969c637</td>\n",
       "      <td>ce7cf0c4-4b91-44b9-9200-f973a751b53f</td>\n",
       "      <td>200</td>\n",
       "      <td>24</td>\n",
       "      <td>9c339b9b-61be-45e7-9bb4-3747bb8e4d45</td>\n",
       "    </tr>\n",
       "    <tr>\n",
       "      <th>2</th>\n",
       "      <td>7ba12e88-b130-45df-a903-f8b97e4696dd</td>\n",
       "      <td>2023-01-04 14:38:00</td>\n",
       "      <td>e43a721e-9ff3-467f-9335-f0b19a801b91</td>\n",
       "      <td>c3b228c7-74ce-49a3-a3b3-cd2e1dccf9bc</td>\n",
       "      <td>37</td>\n",
       "      <td>57</td>\n",
       "      <td>dd0dd8a1-c63a-47e1-9e74-804e95b85866</td>\n",
       "    </tr>\n",
       "    <tr>\n",
       "      <th>3</th>\n",
       "      <td>969f4240-ddf3-44e9-8cb7-4b4bfa9042bc</td>\n",
       "      <td>2023-09-24 23:24:00</td>\n",
       "      <td>9b0e877f-bfe4-4a28-807e-af26a3e8de2c</td>\n",
       "      <td>51a5f054-8f61-4cc9-a13a-b427964a73c7</td>\n",
       "      <td>176</td>\n",
       "      <td>7</td>\n",
       "      <td>8bf84e18-03dd-4466-85e3-a13baa4edfdc</td>\n",
       "    </tr>\n",
       "    <tr>\n",
       "      <th>4</th>\n",
       "      <td>6046746b-3064-4f4e-b7f3-e6302008ffbe</td>\n",
       "      <td>2023-07-16 13:23:00</td>\n",
       "      <td>749dd4d1-6911-4c8c-9c08-63843bf3c4fb</td>\n",
       "      <td>cbee1941-4b03-459d-bf4d-39af94da5d29</td>\n",
       "      <td>33</td>\n",
       "      <td>37</td>\n",
       "      <td>76e1771f-adaf-46c3-841c-e717a9859685</td>\n",
       "    </tr>\n",
       "  </tbody>\n",
       "</table>\n",
       "</div>"
      ],
      "text/plain": [
       "                                     id               fecha  \\\n",
       "0  de249853-d129-41ce-8fc5-e4729a7e34b9 2024-02-12 19:12:00   \n",
       "1  03a62d85-904c-4ca1-90c2-cbe6140a6a5c 2023-06-28 16:00:00   \n",
       "2  7ba12e88-b130-45df-a903-f8b97e4696dd 2023-01-04 14:38:00   \n",
       "3  969f4240-ddf3-44e9-8cb7-4b4bfa9042bc 2023-09-24 23:24:00   \n",
       "4  6046746b-3064-4f4e-b7f3-e6302008ffbe 2023-07-16 13:23:00   \n",
       "\n",
       "                            id_producto                            id_cliente  \\\n",
       "0  30be362d-2a8a-41bf-ac5b-89d001ef1de9  b5f9c894-ac04-4785-8112-91ee0e598113   \n",
       "1  459411b1-40de-4433-9981-af189969c637  ce7cf0c4-4b91-44b9-9200-f973a751b53f   \n",
       "2  e43a721e-9ff3-467f-9335-f0b19a801b91  c3b228c7-74ce-49a3-a3b3-cd2e1dccf9bc   \n",
       "3  9b0e877f-bfe4-4a28-807e-af26a3e8de2c  51a5f054-8f61-4cc9-a13a-b427964a73c7   \n",
       "4  749dd4d1-6911-4c8c-9c08-63843bf3c4fb  cbee1941-4b03-459d-bf4d-39af94da5d29   \n",
       "\n",
       "   cantidad  descuento                             id_tienda  \n",
       "0        30          3  377a6598-039a-485c-836d-daf1fbf32238  \n",
       "1       200         24  9c339b9b-61be-45e7-9bb4-3747bb8e4d45  \n",
       "2        37         57  dd0dd8a1-c63a-47e1-9e74-804e95b85866  \n",
       "3       176          7  8bf84e18-03dd-4466-85e3-a13baa4edfdc  \n",
       "4        33         37  76e1771f-adaf-46c3-841c-e717a9859685  "
      ]
     },
     "execution_count": 67,
     "metadata": {},
     "output_type": "execute_result"
    }
   ],
   "source": [
    "ruta='sales_data.csv'\n",
    "datos_extraidos=extraer_datos(ruta)\n",
    "datos_transformados=transformacion(datos_extraidos)\n",
    "datos_transformados.head(5)"
   ]
  },
  {
   "cell_type": "code",
   "execution_count": null,
   "id": "1edeabdb",
   "metadata": {},
   "outputs": [],
   "source": []
  }
 ],
 "metadata": {
  "kernelspec": {
   "display_name": "Python 3 (ipykernel)",
   "language": "python",
   "name": "python3"
  },
  "language_info": {
   "codemirror_mode": {
    "name": "ipython",
    "version": 3
   },
   "file_extension": ".py",
   "mimetype": "text/x-python",
   "name": "python",
   "nbconvert_exporter": "python",
   "pygments_lexer": "ipython3",
   "version": "3.11.4"
  }
 },
 "nbformat": 4,
 "nbformat_minor": 5
}
