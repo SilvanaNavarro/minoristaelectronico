{
 "cells": [
  {
   "cell_type": "code",
   "execution_count": 1,
   "id": "d499b1ac",
   "metadata": {},
   "outputs": [],
   "source": [
    "import pandas as pd\n",
    "import numpy as np\n",
    "from datetime import datetime\n",
    "import mysql.connector\n",
    "from mysql.connector import Error"
   ]
  },
  {
   "cell_type": "code",
   "execution_count": 2,
   "id": "150e792e",
   "metadata": {},
   "outputs": [],
   "source": [
    "def extraer_datos(ruta_de_archivo): \n",
    "    archivo=pd.read_csv(ruta_de_archivo)\n",
    "    data_frame=pd.DataFrame(archivo)\n",
    "    return(data_frame)"
   ]
  },
  {
   "cell_type": "code",
   "execution_count": 3,
   "id": "76ad4606",
   "metadata": {},
   "outputs": [],
   "source": [
    "def transformacion(data_frame):\n",
    "    fecha=[]\n",
    "    precio=[]\n",
    "    for i in range(len(data_frame['Fecha de venta'])):\n",
    "        date_str=data_frame['Fecha de venta'][i]+' '+data_frame['Hora de Venta'][i]\n",
    "        date_format= '%m/%d/%Y %I:%M %p'\n",
    "        date_obj = datetime.strptime(date_str, date_format)\n",
    "        precio_obj = int(data_frame['Precio de venta'][i]/data_frame['Cantidad vendida'][i])\n",
    "        fecha.append(date_obj)\n",
    "        precio.append(precio_obj)\n",
    "\n",
    "    ventas = pd.DataFrame({'id':data_frame['ID de venta'],'fecha':fecha,'id_producto':data_frame['ID de producto'],\n",
    "                                         'id_cliente':data_frame['ID de cliente'],'cantidad':data_frame['Cantidad vendida'],\n",
    "                                         'descuento':data_frame['Descuento']\n",
    "                                        ,'id_tienda':data_frame['ID de la tienda']}\n",
    "                               )\n",
    "    productos = pd.DataFrame({\n",
    "                              'id':data_frame['ID de producto'],\n",
    "                              'nombre':data_frame['Nombre del producto'],\n",
    "                                'precio':precio\n",
    "    })\n",
    "    clientes= pd.DataFrame({\n",
    "            'id':data_frame['ID de cliente'],\n",
    "            'nombre':data_frame['Nombre del cliente'],\n",
    "            'genero':data_frame['Género del cliente']\n",
    "            \n",
    "    })\n",
    "    tiendas = pd.DataFrame({\n",
    "        'id':data_frame['ID de la tienda'],\n",
    "        'nombre':data_frame['Nombre de la tienda'],\n",
    "        'ubicacion':data_frame['Ubicación de la tienda'].fillna('no-info')\n",
    "    })\n",
    "\n",
    "    return(ventas,productos,clientes,tiendas)"
   ]
  },
  {
   "cell_type": "code",
   "execution_count": 4,
   "id": "1e16b92d",
   "metadata": {},
   "outputs": [],
   "source": [
    "def guardar_csv(data_frame,archivo_destino):\n",
    "    data_frame.to_csv(archivo_destino,index=False)"
   ]
  },
  {
   "cell_type": "code",
   "execution_count": 5,
   "id": "92fbde32",
   "metadata": {},
   "outputs": [],
   "source": [
    "def crearTablas(nombrehost,puerto,usuario,contraseña,database):\n",
    "    try:\n",
    "        conexion = mysql.connector.connect(\n",
    "            host = nombrehost,\n",
    "            port = puerto,\n",
    "            user = usuario,\n",
    "            password = contraseña,\n",
    "            db= database\n",
    "        )\n",
    "        if conexion.is_connected():\n",
    "            print('Base de datos conectada')\n",
    "\n",
    "            cursor = conexion.cursor()\n",
    "            cursor.execute('''\n",
    "                        CREATE TABLE IF NOT EXISTS clientes (\n",
    "                        id VARCHAR(100) NOT NULL,\n",
    "                        nombre VARCHAR(80) NOT NULL,\n",
    "                        genero VARCHAR(20),\n",
    "                        PRIMARY KEY (id)\n",
    "                        )\n",
    "                        ''')\n",
    "            cursor.execute('''\n",
    "                        CREATE TABLE IF NOT EXISTS productos (\n",
    "                        id VARCHAR(100) NOT NULL,\n",
    "                        nombre VARCHAR(80) NOT NULL,\n",
    "                        precio INT(20) NOT NULL,\n",
    "                        PRIMARY KEY (id)\n",
    "                        )\n",
    "                        ''')\n",
    "            cursor.execute('''CREATE TABLE IF NOT EXISTS tiendas (\n",
    "                        id VARCHAR(100) NOT NULL,\n",
    "                        nombre VARCHAR(80) NOT NULL,\n",
    "                        ubicacion VARCHAR(80),\n",
    "                        PRIMARY KEY (id)\n",
    "                        )''')\n",
    "            cursor.execute(\"\"\"CREATE TABLE IF NOT EXISTS ventas (\n",
    "                        id VARCHAR(100) NOT NULL,\n",
    "                        fecha DATETIME NOT NULL,\n",
    "                        id_producto VARCHAR(100) NOT NULL,\n",
    "                        id_cliente VARCHAR(100) NOT NULL,\n",
    "                        cantidad INT(10) NOT NULL,\n",
    "                        descuento INT(10) NOT NULL,\n",
    "                        id_tienda VARCHAR(100) NOT NULL,\n",
    "                        PRIMARY KEY (id),\n",
    "                        FOREIGN KEY (id_producto)\n",
    "                        REFERENCES productos(id) ON UPDATE CASCADE,\n",
    "                        FOREIGN KEY (id_cliente)\n",
    "                        REFERENCES clientes(id) ON UPDATE CASCADE,\n",
    "                        FOREIGN KEY (id_tienda)\n",
    "                        REFERENCES tiendas(id) ON UPDATE CASCADE                       \n",
    "                        )\n",
    "                        \"\"\")\n",
    "            \n",
    "            print('Tablas creadas')\n",
    "\n",
    "    except Error as ex:\n",
    "        print('Error al conectar base de datos: {}'.format(ex))\n",
    "    finally:\n",
    "        if conexion.is_connected():\n",
    "            conexion.close()\n",
    "            print('Conexión finalizada')"
   ]
  },
  {
   "cell_type": "code",
   "execution_count": 6,
   "id": "5714fc7d",
   "metadata": {},
   "outputs": [],
   "source": [
    "def guardarDatos(sql,tabla):\n",
    "    try:\n",
    "        conexion = mysql.connector.connect(\n",
    "            host = 'localhost',\n",
    "            port = 3306,\n",
    "            user = 'root',\n",
    "            password = 'valkiria123',\n",
    "            db= 'minoristaelectronicos'\n",
    "        )\n",
    "        if conexion.is_connected():\n",
    "            cursor = conexion.cursor()\n",
    "\n",
    "            cursor.executemany(sql,tabla)\n",
    "            conexion.commit()           \n",
    "            \n",
    "\n",
    "\n",
    "    except Error as ex:\n",
    "        print('Error al conectar base de datos: {}'.format(ex))\n",
    "    finally:\n",
    "        if conexion.is_connected():\n",
    "            conexion.close()"
   ]
  },
  {
   "cell_type": "code",
   "execution_count": 7,
   "id": "8e2d40c9",
   "metadata": {},
   "outputs": [
    {
     "name": "stdout",
     "output_type": "stream",
     "text": [
      "Datos extraídos\n",
      "Datos transformados\n",
      "Base de datos conectada\n",
      "Tablas creadas\n",
      "Conexión finalizada\n",
      "datos insertados\n"
     ]
    }
   ],
   "source": [
    "ruta='sales_data.csv'\n",
    "datos_extraidos=extraer_datos(ruta)\n",
    "print('Datos extraídos')\n",
    "tabla_ventas , tabla_productos , tabla_clientes, tabla_tiendas =transformacion(datos_extraidos)\n",
    "print('Datos transformados')\n",
    "crearTablas('localhost',3306,'root','valkiria123','minoristaelectronicos')\n",
    "sql_productos='INSERT INTO productos (id,nombre,precio) VALUES (%s,%s,%s)'\n",
    "sql_clientes='INSERT INTO clientes (id,nombre, genero) VALUES (%s,%s,%s)'\n",
    "sql_tiendas='INSERT INTO tiendas (id,nombre, ubicacion) VALUES (%s,%s,%s)'\n",
    "sql_ventas='INSERT INTO ventas (id,fecha,id_producto,id_cliente,cantidad,descuento,id_tienda) VALUES (%s,%s,%s,%s,%s,%s,%s)'\n",
    "guardarDatos(sql_productos,tabla_productos.to_numpy().tolist())\n",
    "guardarDatos(sql_clientes,tabla_clientes.to_numpy().tolist())\n",
    "guardarDatos(sql_tiendas,tabla_tiendas.to_numpy().tolist())\n",
    "guardarDatos(sql_ventas,tabla_ventas.to_numpy().tolist())\n",
    "print('datos insertados')"
   ]
  },
  {
   "cell_type": "code",
   "execution_count": 8,
   "id": "1edeabdb",
   "metadata": {},
   "outputs": [
    {
     "name": "stdout",
     "output_type": "stream",
     "text": [
      "Datos extraídos\n",
      "Datos transformados\n",
      "datos guardados\n"
     ]
    }
   ],
   "source": [
    "ruta='sales_data.csv'\n",
    "datos_extraidos=extraer_datos(ruta)\n",
    "print('Datos extraídos')\n",
    "tabla_ventas , tabla_productos , tabla_clientes, tabla_tiendas =transformacion(datos_extraidos)\n",
    "print('Datos transformados')\n",
    "guardar_csv(tabla_ventas,'ventas.csv')\n",
    "guardar_csv(tabla_productos,'productos.csv')\n",
    "guardar_csv(tabla_clientes,'clientes.csv')\n",
    "guardar_csv(tabla_tiendas,'tiendas.csv')\n",
    "print('datos guardados')"
   ]
  }
 ],
 "metadata": {
  "kernelspec": {
   "display_name": "Python 3 (ipykernel)",
   "language": "python",
   "name": "python3"
  },
  "language_info": {
   "codemirror_mode": {
    "name": "ipython",
    "version": 3
   },
   "file_extension": ".py",
   "mimetype": "text/x-python",
   "name": "python",
   "nbconvert_exporter": "python",
   "pygments_lexer": "ipython3",
   "version": "3.12.2"
  }
 },
 "nbformat": 4,
 "nbformat_minor": 5
}
